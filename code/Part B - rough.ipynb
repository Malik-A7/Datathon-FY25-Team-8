{
 "cells": [
  {
   "cell_type": "markdown",
   "id": "1ab39387-5a11-4c68-a9f7-69ab19e132f2",
   "metadata": {},
   "source": [
    "## **Data Extraction, Cleaning, and Initial Exploratory Data Analysis (EDA)**"
   ]
  },
  {
   "cell_type": "markdown",
   "id": "c3635a08-ae08-4237-ac1e-6cae57c71a44",
   "metadata": {},
   "source": [
    "### **Step 1: Data Extraction**"
   ]
  },
  {
   "cell_type": "code",
   "execution_count": 12,
   "id": "70720487-c033-407f-a28d-d237e3d5696e",
   "metadata": {},
   "outputs": [],
   "source": [
    "import pandas as pd"
   ]
  },
  {
   "cell_type": "code",
   "execution_count": 13,
   "id": "b3977fc0-9a15-4c80-94b3-51870fe1b708",
   "metadata": {},
   "outputs": [],
   "source": [
    "diabetes_dataset_filepath = '../Data & AI  PAN Datathon Nov 24/diabetes_data.csv'\n",
    "\n",
    "# Read the CSV into a Pandas DataFrame\n",
    "diabetes_data = pd.read_csv(diabetes_dataset_filepath)"
   ]
  },
  {
   "cell_type": "code",
   "execution_count": 14,
   "id": "a97ea454-803c-46bb-8cd5-e699a2d29a01",
   "metadata": {},
   "outputs": [
    {
     "data": {
      "text/html": [
       "<div>\n",
       "<style scoped>\n",
       "    .dataframe tbody tr th:only-of-type {\n",
       "        vertical-align: middle;\n",
       "    }\n",
       "\n",
       "    .dataframe tbody tr th {\n",
       "        vertical-align: top;\n",
       "    }\n",
       "\n",
       "    .dataframe thead th {\n",
       "        text-align: right;\n",
       "    }\n",
       "</style>\n",
       "<table border=\"1\" class=\"dataframe\">\n",
       "  <thead>\n",
       "    <tr style=\"text-align: right;\">\n",
       "      <th></th>\n",
       "      <th>gender</th>\n",
       "      <th>age</th>\n",
       "      <th>hypertension</th>\n",
       "      <th>diabetes_pedigree_function</th>\n",
       "      <th>diet_type</th>\n",
       "      <th>star_sign</th>\n",
       "      <th>BMI</th>\n",
       "      <th>weight</th>\n",
       "      <th>family_diabetes_history</th>\n",
       "      <th>social_media_usage</th>\n",
       "      <th>physical_activity_level</th>\n",
       "      <th>sleep_duration</th>\n",
       "      <th>stress_level</th>\n",
       "      <th>pregnancies</th>\n",
       "      <th>alcohol_consumption</th>\n",
       "      <th>diabetes</th>\n",
       "    </tr>\n",
       "  </thead>\n",
       "  <tbody>\n",
       "    <tr>\n",
       "      <th>0</th>\n",
       "      <td>female</td>\n",
       "      <td>NaN</td>\n",
       "      <td>NaN</td>\n",
       "      <td>0.37</td>\n",
       "      <td>paleo</td>\n",
       "      <td>NaN</td>\n",
       "      <td>NaN</td>\n",
       "      <td>197.7</td>\n",
       "      <td>NaN</td>\n",
       "      <td>Occasionally</td>\n",
       "      <td>Sedentary</td>\n",
       "      <td>1.5</td>\n",
       "      <td>Low</td>\n",
       "      <td>NaN</td>\n",
       "      <td>light</td>\n",
       "      <td>1.0</td>\n",
       "    </tr>\n",
       "    <tr>\n",
       "      <th>1</th>\n",
       "      <td>male</td>\n",
       "      <td>59.0</td>\n",
       "      <td>0.0</td>\n",
       "      <td>0.73</td>\n",
       "      <td>NaN</td>\n",
       "      <td>Leo</td>\n",
       "      <td>17.1</td>\n",
       "      <td>156.5</td>\n",
       "      <td>0.0</td>\n",
       "      <td>Occasionally</td>\n",
       "      <td>Lightly Active</td>\n",
       "      <td>5.4</td>\n",
       "      <td>Moderate</td>\n",
       "      <td>0.0</td>\n",
       "      <td>none</td>\n",
       "      <td>1.0</td>\n",
       "    </tr>\n",
       "    <tr>\n",
       "      <th>2</th>\n",
       "      <td>female</td>\n",
       "      <td>31.0</td>\n",
       "      <td>NaN</td>\n",
       "      <td>NaN</td>\n",
       "      <td>NaN</td>\n",
       "      <td>NaN</td>\n",
       "      <td>22.5</td>\n",
       "      <td>137.8</td>\n",
       "      <td>NaN</td>\n",
       "      <td>Occasionally</td>\n",
       "      <td>Lightly Active</td>\n",
       "      <td>7.6</td>\n",
       "      <td>Low</td>\n",
       "      <td>0.0</td>\n",
       "      <td>light</td>\n",
       "      <td>1.0</td>\n",
       "    </tr>\n",
       "    <tr>\n",
       "      <th>3</th>\n",
       "      <td>female</td>\n",
       "      <td>81.0</td>\n",
       "      <td>1.0</td>\n",
       "      <td>0.37</td>\n",
       "      <td>pescatarian</td>\n",
       "      <td>NaN</td>\n",
       "      <td>NaN</td>\n",
       "      <td>108.2</td>\n",
       "      <td>0.0</td>\n",
       "      <td>NaN</td>\n",
       "      <td>Sedentary</td>\n",
       "      <td>7.7</td>\n",
       "      <td>Low</td>\n",
       "      <td>1.0</td>\n",
       "      <td>heavy</td>\n",
       "      <td>NaN</td>\n",
       "    </tr>\n",
       "    <tr>\n",
       "      <th>4</th>\n",
       "      <td>NaN</td>\n",
       "      <td>64.0</td>\n",
       "      <td>0.0</td>\n",
       "      <td>0.55</td>\n",
       "      <td>carnivore</td>\n",
       "      <td>NaN</td>\n",
       "      <td>NaN</td>\n",
       "      <td>179.7</td>\n",
       "      <td>NaN</td>\n",
       "      <td>Occasionally</td>\n",
       "      <td>Sedentary</td>\n",
       "      <td>7.8</td>\n",
       "      <td>NaN</td>\n",
       "      <td>0.0</td>\n",
       "      <td>heavy</td>\n",
       "      <td>1.0</td>\n",
       "    </tr>\n",
       "    <tr>\n",
       "      <th>...</th>\n",
       "      <td>...</td>\n",
       "      <td>...</td>\n",
       "      <td>...</td>\n",
       "      <td>...</td>\n",
       "      <td>...</td>\n",
       "      <td>...</td>\n",
       "      <td>...</td>\n",
       "      <td>...</td>\n",
       "      <td>...</td>\n",
       "      <td>...</td>\n",
       "      <td>...</td>\n",
       "      <td>...</td>\n",
       "      <td>...</td>\n",
       "      <td>...</td>\n",
       "      <td>...</td>\n",
       "      <td>...</td>\n",
       "    </tr>\n",
       "    <tr>\n",
       "      <th>99995</th>\n",
       "      <td>male</td>\n",
       "      <td>24.0</td>\n",
       "      <td>NaN</td>\n",
       "      <td>0.29</td>\n",
       "      <td>vegetarian</td>\n",
       "      <td>Libra</td>\n",
       "      <td>18.9</td>\n",
       "      <td>56.0</td>\n",
       "      <td>0.0</td>\n",
       "      <td>Never</td>\n",
       "      <td>Sedentary</td>\n",
       "      <td>2.6</td>\n",
       "      <td>Elevated</td>\n",
       "      <td>0.0</td>\n",
       "      <td>light</td>\n",
       "      <td>1.0</td>\n",
       "    </tr>\n",
       "    <tr>\n",
       "      <th>99996</th>\n",
       "      <td>male</td>\n",
       "      <td>53.0</td>\n",
       "      <td>1.0</td>\n",
       "      <td>0.64</td>\n",
       "      <td>weight watchers</td>\n",
       "      <td>NaN</td>\n",
       "      <td>28.4</td>\n",
       "      <td>140.8</td>\n",
       "      <td>NaN</td>\n",
       "      <td>Excessive</td>\n",
       "      <td>Lightly Active</td>\n",
       "      <td>7.5</td>\n",
       "      <td>Moderate</td>\n",
       "      <td>0.0</td>\n",
       "      <td>NaN</td>\n",
       "      <td>1.0</td>\n",
       "    </tr>\n",
       "    <tr>\n",
       "      <th>99997</th>\n",
       "      <td>male</td>\n",
       "      <td>61.0</td>\n",
       "      <td>0.0</td>\n",
       "      <td>0.34</td>\n",
       "      <td>NaN</td>\n",
       "      <td>Taurus</td>\n",
       "      <td>NaN</td>\n",
       "      <td>NaN</td>\n",
       "      <td>NaN</td>\n",
       "      <td>Excessive</td>\n",
       "      <td>Lightly Active</td>\n",
       "      <td>2.8</td>\n",
       "      <td>Moderate</td>\n",
       "      <td>0.0</td>\n",
       "      <td>heavy</td>\n",
       "      <td>1.0</td>\n",
       "    </tr>\n",
       "    <tr>\n",
       "      <th>99998</th>\n",
       "      <td>male</td>\n",
       "      <td>NaN</td>\n",
       "      <td>0.0</td>\n",
       "      <td>0.71</td>\n",
       "      <td>mediterranean</td>\n",
       "      <td>Leo</td>\n",
       "      <td>28.8</td>\n",
       "      <td>123.6</td>\n",
       "      <td>0.0</td>\n",
       "      <td>Excessive</td>\n",
       "      <td>Sedentary</td>\n",
       "      <td>0.4</td>\n",
       "      <td>Moderate</td>\n",
       "      <td>0.0</td>\n",
       "      <td>none</td>\n",
       "      <td>1.0</td>\n",
       "    </tr>\n",
       "    <tr>\n",
       "      <th>99999</th>\n",
       "      <td>male</td>\n",
       "      <td>63.0</td>\n",
       "      <td>NaN</td>\n",
       "      <td>0.46</td>\n",
       "      <td>ketogenic</td>\n",
       "      <td>Aquarius</td>\n",
       "      <td>NaN</td>\n",
       "      <td>NaN</td>\n",
       "      <td>NaN</td>\n",
       "      <td>Occasionally</td>\n",
       "      <td>Sedentary</td>\n",
       "      <td>7.5</td>\n",
       "      <td>Low</td>\n",
       "      <td>0.0</td>\n",
       "      <td>none</td>\n",
       "      <td>1.0</td>\n",
       "    </tr>\n",
       "  </tbody>\n",
       "</table>\n",
       "<p>100000 rows × 16 columns</p>\n",
       "</div>"
      ],
      "text/plain": [
       "       gender   age  hypertension  diabetes_pedigree_function  \\\n",
       "0      female   NaN           NaN                        0.37   \n",
       "1        male  59.0           0.0                        0.73   \n",
       "2      female  31.0           NaN                         NaN   \n",
       "3      female  81.0           1.0                        0.37   \n",
       "4         NaN  64.0           0.0                        0.55   \n",
       "...       ...   ...           ...                         ...   \n",
       "99995    male  24.0           NaN                        0.29   \n",
       "99996    male  53.0           1.0                        0.64   \n",
       "99997    male  61.0           0.0                        0.34   \n",
       "99998    male   NaN           0.0                        0.71   \n",
       "99999    male  63.0           NaN                        0.46   \n",
       "\n",
       "             diet_type star_sign   BMI  weight  family_diabetes_history  \\\n",
       "0                paleo       NaN   NaN   197.7                      NaN   \n",
       "1                  NaN       Leo  17.1   156.5                      0.0   \n",
       "2                  NaN       NaN  22.5   137.8                      NaN   \n",
       "3          pescatarian       NaN   NaN   108.2                      0.0   \n",
       "4            carnivore       NaN   NaN   179.7                      NaN   \n",
       "...                ...       ...   ...     ...                      ...   \n",
       "99995       vegetarian     Libra  18.9    56.0                      0.0   \n",
       "99996  weight watchers       NaN  28.4   140.8                      NaN   \n",
       "99997              NaN    Taurus   NaN     NaN                      NaN   \n",
       "99998    mediterranean       Leo  28.8   123.6                      0.0   \n",
       "99999        ketogenic  Aquarius   NaN     NaN                      NaN   \n",
       "\n",
       "      social_media_usage physical_activity_level  sleep_duration stress_level  \\\n",
       "0           Occasionally               Sedentary             1.5          Low   \n",
       "1           Occasionally          Lightly Active             5.4     Moderate   \n",
       "2           Occasionally          Lightly Active             7.6          Low   \n",
       "3                    NaN               Sedentary             7.7          Low   \n",
       "4           Occasionally               Sedentary             7.8          NaN   \n",
       "...                  ...                     ...             ...          ...   \n",
       "99995              Never               Sedentary             2.6     Elevated   \n",
       "99996          Excessive          Lightly Active             7.5     Moderate   \n",
       "99997          Excessive          Lightly Active             2.8     Moderate   \n",
       "99998          Excessive               Sedentary             0.4     Moderate   \n",
       "99999       Occasionally               Sedentary             7.5          Low   \n",
       "\n",
       "       pregnancies alcohol_consumption  diabetes  \n",
       "0              NaN               light       1.0  \n",
       "1              0.0                none       1.0  \n",
       "2              0.0               light       1.0  \n",
       "3              1.0               heavy       NaN  \n",
       "4              0.0               heavy       1.0  \n",
       "...            ...                 ...       ...  \n",
       "99995          0.0               light       1.0  \n",
       "99996          0.0                 NaN       1.0  \n",
       "99997          0.0               heavy       1.0  \n",
       "99998          0.0                none       1.0  \n",
       "99999          0.0                none       1.0  \n",
       "\n",
       "[100000 rows x 16 columns]"
      ]
     },
     "execution_count": 14,
     "metadata": {},
     "output_type": "execute_result"
    }
   ],
   "source": [
    "# Quick view of data\n",
    "diabetes_data"
   ]
  },
  {
   "cell_type": "code",
   "execution_count": 4,
   "id": "c70afc5d-ebba-4e90-9096-def17256ab32",
   "metadata": {
    "collapsed": true,
    "jupyter": {
     "outputs_hidden": true
    }
   },
   "outputs": [
    {
     "name": "stdout",
     "output_type": "stream",
     "text": [
      "<class 'pandas.core.frame.DataFrame'>\n",
      "RangeIndex: 100000 entries, 0 to 99999\n",
      "Data columns (total 16 columns):\n",
      " #   Column                      Non-Null Count  Dtype  \n",
      "---  ------                      --------------  -----  \n",
      " 0   gender                      79954 non-null  object \n",
      " 1   age                         80145 non-null  float64\n",
      " 2   hypertension                80169 non-null  float64\n",
      " 3   diabetes_pedigree_function  80120 non-null  float64\n",
      " 4   diet_type                   79939 non-null  object \n",
      " 5   star_sign                   79806 non-null  object \n",
      " 6   BMI                         79934 non-null  float64\n",
      " 7   weight                      80126 non-null  float64\n",
      " 8   family_diabetes_history     79863 non-null  float64\n",
      " 9   social_media_usage          79968 non-null  object \n",
      " 10  physical_activity_level     80032 non-null  object \n",
      " 11  sleep_duration              80063 non-null  float64\n",
      " 12  stress_level                80024 non-null  object \n",
      " 13  pregnancies                 80033 non-null  float64\n",
      " 14  alcohol_consumption         79896 non-null  object \n",
      " 15  diabetes                    80242 non-null  float64\n",
      "dtypes: float64(9), object(7)\n",
      "memory usage: 12.2+ MB\n"
     ]
    }
   ],
   "source": [
    "# Summary info at column level\n",
    "diabetes_data.info()"
   ]
  },
  {
   "cell_type": "code",
   "execution_count": 5,
   "id": "87bd63c3-5b79-4949-8f18-1d361da9b968",
   "metadata": {
    "collapsed": true,
    "jupyter": {
     "outputs_hidden": true
    }
   },
   "outputs": [
    {
     "data": {
      "text/html": [
       "<div>\n",
       "<style scoped>\n",
       "    .dataframe tbody tr th:only-of-type {\n",
       "        vertical-align: middle;\n",
       "    }\n",
       "\n",
       "    .dataframe tbody tr th {\n",
       "        vertical-align: top;\n",
       "    }\n",
       "\n",
       "    .dataframe thead th {\n",
       "        text-align: right;\n",
       "    }\n",
       "</style>\n",
       "<table border=\"1\" class=\"dataframe\">\n",
       "  <thead>\n",
       "    <tr style=\"text-align: right;\">\n",
       "      <th></th>\n",
       "      <th>age</th>\n",
       "      <th>hypertension</th>\n",
       "      <th>diabetes_pedigree_function</th>\n",
       "      <th>BMI</th>\n",
       "      <th>weight</th>\n",
       "      <th>family_diabetes_history</th>\n",
       "      <th>sleep_duration</th>\n",
       "      <th>pregnancies</th>\n",
       "      <th>diabetes</th>\n",
       "    </tr>\n",
       "  </thead>\n",
       "  <tbody>\n",
       "    <tr>\n",
       "      <th>count</th>\n",
       "      <td>80145.000000</td>\n",
       "      <td>80169.000000</td>\n",
       "      <td>80120.000000</td>\n",
       "      <td>79934.000000</td>\n",
       "      <td>80126.000000</td>\n",
       "      <td>79863.000000</td>\n",
       "      <td>80063.000000</td>\n",
       "      <td>80033.000000</td>\n",
       "      <td>80242.000000</td>\n",
       "    </tr>\n",
       "    <tr>\n",
       "      <th>mean</th>\n",
       "      <td>45.107306</td>\n",
       "      <td>0.202248</td>\n",
       "      <td>0.500877</td>\n",
       "      <td>26.978545</td>\n",
       "      <td>150.526618</td>\n",
       "      <td>0.302167</td>\n",
       "      <td>5.295149</td>\n",
       "      <td>0.758212</td>\n",
       "      <td>0.954936</td>\n",
       "    </tr>\n",
       "    <tr>\n",
       "      <th>std</th>\n",
       "      <td>18.550434</td>\n",
       "      <td>0.401678</td>\n",
       "      <td>0.173783</td>\n",
       "      <td>6.005039</td>\n",
       "      <td>57.731539</td>\n",
       "      <td>0.459200</td>\n",
       "      <td>2.842133</td>\n",
       "      <td>1.281326</td>\n",
       "      <td>0.207445</td>\n",
       "    </tr>\n",
       "    <tr>\n",
       "      <th>min</th>\n",
       "      <td>18.000000</td>\n",
       "      <td>0.000000</td>\n",
       "      <td>0.200000</td>\n",
       "      <td>1.800000</td>\n",
       "      <td>50.000000</td>\n",
       "      <td>0.000000</td>\n",
       "      <td>0.000000</td>\n",
       "      <td>0.000000</td>\n",
       "      <td>0.000000</td>\n",
       "    </tr>\n",
       "    <tr>\n",
       "      <th>25%</th>\n",
       "      <td>27.000000</td>\n",
       "      <td>0.000000</td>\n",
       "      <td>0.350000</td>\n",
       "      <td>22.900000</td>\n",
       "      <td>100.300000</td>\n",
       "      <td>0.000000</td>\n",
       "      <td>3.300000</td>\n",
       "      <td>0.000000</td>\n",
       "      <td>1.000000</td>\n",
       "    </tr>\n",
       "    <tr>\n",
       "      <th>50%</th>\n",
       "      <td>45.000000</td>\n",
       "      <td>0.000000</td>\n",
       "      <td>0.500000</td>\n",
       "      <td>27.000000</td>\n",
       "      <td>150.900000</td>\n",
       "      <td>0.000000</td>\n",
       "      <td>5.300000</td>\n",
       "      <td>0.000000</td>\n",
       "      <td>1.000000</td>\n",
       "    </tr>\n",
       "    <tr>\n",
       "      <th>75%</th>\n",
       "      <td>60.000000</td>\n",
       "      <td>0.000000</td>\n",
       "      <td>0.650000</td>\n",
       "      <td>31.000000</td>\n",
       "      <td>200.400000</td>\n",
       "      <td>1.000000</td>\n",
       "      <td>7.000000</td>\n",
       "      <td>1.000000</td>\n",
       "      <td>1.000000</td>\n",
       "    </tr>\n",
       "    <tr>\n",
       "      <th>max</th>\n",
       "      <td>91.000000</td>\n",
       "      <td>1.000000</td>\n",
       "      <td>0.800000</td>\n",
       "      <td>53.100000</td>\n",
       "      <td>250.000000</td>\n",
       "      <td>1.000000</td>\n",
       "      <td>12.000000</td>\n",
       "      <td>5.000000</td>\n",
       "      <td>1.000000</td>\n",
       "    </tr>\n",
       "  </tbody>\n",
       "</table>\n",
       "</div>"
      ],
      "text/plain": [
       "                age  hypertension  diabetes_pedigree_function           BMI  \\\n",
       "count  80145.000000  80169.000000                80120.000000  79934.000000   \n",
       "mean      45.107306      0.202248                    0.500877     26.978545   \n",
       "std       18.550434      0.401678                    0.173783      6.005039   \n",
       "min       18.000000      0.000000                    0.200000      1.800000   \n",
       "25%       27.000000      0.000000                    0.350000     22.900000   \n",
       "50%       45.000000      0.000000                    0.500000     27.000000   \n",
       "75%       60.000000      0.000000                    0.650000     31.000000   \n",
       "max       91.000000      1.000000                    0.800000     53.100000   \n",
       "\n",
       "             weight  family_diabetes_history  sleep_duration   pregnancies  \\\n",
       "count  80126.000000             79863.000000    80063.000000  80033.000000   \n",
       "mean     150.526618                 0.302167        5.295149      0.758212   \n",
       "std       57.731539                 0.459200        2.842133      1.281326   \n",
       "min       50.000000                 0.000000        0.000000      0.000000   \n",
       "25%      100.300000                 0.000000        3.300000      0.000000   \n",
       "50%      150.900000                 0.000000        5.300000      0.000000   \n",
       "75%      200.400000                 1.000000        7.000000      1.000000   \n",
       "max      250.000000                 1.000000       12.000000      5.000000   \n",
       "\n",
       "           diabetes  \n",
       "count  80242.000000  \n",
       "mean       0.954936  \n",
       "std        0.207445  \n",
       "min        0.000000  \n",
       "25%        1.000000  \n",
       "50%        1.000000  \n",
       "75%        1.000000  \n",
       "max        1.000000  "
      ]
     },
     "execution_count": 5,
     "metadata": {},
     "output_type": "execute_result"
    }
   ],
   "source": [
    "# Summary stats for numeric data\n",
    "diabetes_data.describe()"
   ]
  },
  {
   "cell_type": "code",
   "execution_count": 6,
   "id": "356e4470-1025-4cba-889f-ea46b34cfa03",
   "metadata": {
    "collapsed": true,
    "jupyter": {
     "outputs_hidden": true
    }
   },
   "outputs": [
    {
     "data": {
      "text/plain": [
       "gender                           2\n",
       "age                             74\n",
       "hypertension                     2\n",
       "diabetes_pedigree_function      61\n",
       "diet_type                       12\n",
       "star_sign                       12\n",
       "BMI                            446\n",
       "weight                        2001\n",
       "family_diabetes_history          2\n",
       "social_media_usage               4\n",
       "physical_activity_level          5\n",
       "sleep_duration                 102\n",
       "stress_level                     4\n",
       "pregnancies                      6\n",
       "alcohol_consumption              4\n",
       "diabetes                         2\n",
       "dtype: int64"
      ]
     },
     "execution_count": 6,
     "metadata": {},
     "output_type": "execute_result"
    }
   ],
   "source": [
    "# Number of unique values per column - helps identify if continuous, discrete, or categorical\n",
    "diabetes_data.nunique()"
   ]
  },
  {
   "cell_type": "markdown",
   "id": "48d38d88-08a4-4f29-b79b-725957e9ed9b",
   "metadata": {},
   "source": [
    "### **Step 2: Data Cleaning & Preprocessing**"
   ]
  },
  {
   "cell_type": "markdown",
   "id": "eb387cd0-939b-474f-8792-786fcd4a7f24",
   "metadata": {},
   "source": [
    "##### **Part A: Handling Missing Values**"
   ]
  },
  {
   "cell_type": "code",
   "execution_count": 7,
   "id": "df1d551d-2f94-4dd4-aa05-ffcd9ce5b72a",
   "metadata": {
    "collapsed": true,
    "jupyter": {
     "outputs_hidden": true
    }
   },
   "outputs": [
    {
     "data": {
      "text/plain": [
       "gender                        20046\n",
       "age                           19855\n",
       "hypertension                  19831\n",
       "diabetes_pedigree_function    19880\n",
       "diet_type                     20061\n",
       "star_sign                     20194\n",
       "BMI                           20066\n",
       "weight                        19874\n",
       "family_diabetes_history       20137\n",
       "social_media_usage            20032\n",
       "physical_activity_level       19968\n",
       "sleep_duration                19937\n",
       "stress_level                  19976\n",
       "pregnancies                   19967\n",
       "alcohol_consumption           20104\n",
       "diabetes                      19758\n",
       "dtype: int64"
      ]
     },
     "execution_count": 7,
     "metadata": {},
     "output_type": "execute_result"
    }
   ],
   "source": [
    "# Check how many missing values\n",
    "diabetes_data.isnull().sum()"
   ]
  },
  {
   "cell_type": "code",
   "execution_count": 8,
   "id": "decf0219-f3e7-4504-8dfb-02c6b69d593d",
   "metadata": {},
   "outputs": [
    {
     "name": "stdout",
     "output_type": "stream",
     "text": [
      "Number of rows changed (null gender values replaced): 5815 \n",
      " New null gender value: 14231\n",
      "Number of rows changed (null pregnancies values replaced): 8784 \n",
      " New null gender value: 11183\n"
     ]
    }
   ],
   "source": [
    "null_gender_before = diabetes_data['gender'].isnull().sum()\n",
    "null_pregnancies_before = diabetes_data['pregnancies'].isnull().sum()\n",
    "\n",
    "# Fill 'gender' as 'female' where 'pregnanices' is greater than 0 and 'gender' is null\n",
    "diabetes_data.loc[(diabetes_data['gender'].isnull()) & (diabetes_data['pregnancies'] > 0), 'gender'] = 'female'\n",
    "# Fill null 'pregnancies' values as 0 where 'gender' is male\n",
    "diabetes_data.loc[(diabetes_data['pregnancies'].isnull()) & (diabetes_data['gender'] == 'male'), 'pregnancies'] = 0\n",
    "\n",
    "null_gender_after = diabetes_data['gender'].isnull().sum()\n",
    "null_pregnancies_after = diabetes_data['pregnancies'].isnull().sum()\n",
    "\n",
    "null_gender_vals_changed = null_gender_before - null_gender_after\n",
    "null_pregnancies_vals_changed = null_pregnancies_before - null_pregnancies_after\n",
    "\n",
    "print(f\"Number of rows changed (null gender values replaced): {null_gender_vals_changed} \\n New null gender value: {null_gender_after}\")\n",
    "print(f\"Number of rows changed (null pregnancies values replaced): {null_pregnancies_vals_changed} \\n New null gender value: {null_pregnancies_after}\")\n",
    "\n",
    "# diabetes_data['age'].fillna(diabetes_data['age'].mean(), inplace=True)"
   ]
  },
  {
   "cell_type": "markdown",
   "id": "f605e426-9f21-42d9-8281-c16f6a60b625",
   "metadata": {},
   "source": [
    "##### **Part B: Handling Outliers**"
   ]
  },
  {
   "cell_type": "code",
   "execution_count": 24,
   "id": "be12f5b2-8242-4db2-990b-21612be7f1fa",
   "metadata": {},
   "outputs": [
    {
     "name": "stdout",
     "output_type": "stream",
     "text": [
      "BMI Upper Bound: 43.15\n",
      "BMI Lower Bound: 10.75\n",
      "<class 'pandas.core.frame.DataFrame'>\n",
      "Index: 575 entries, 88 to 99788\n",
      "Data columns (total 16 columns):\n",
      " #   Column                      Non-Null Count  Dtype  \n",
      "---  ------                      --------------  -----  \n",
      " 0   gender                      455 non-null    object \n",
      " 1   age                         445 non-null    float64\n",
      " 2   hypertension                443 non-null    float64\n",
      " 3   diabetes_pedigree_function  464 non-null    float64\n",
      " 4   diet_type                   468 non-null    object \n",
      " 5   star_sign                   461 non-null    object \n",
      " 6   BMI                         575 non-null    float64\n",
      " 7   weight                      457 non-null    float64\n",
      " 8   family_diabetes_history     459 non-null    float64\n",
      " 9   social_media_usage          447 non-null    object \n",
      " 10  physical_activity_level     465 non-null    object \n",
      " 11  sleep_duration              450 non-null    float64\n",
      " 12  stress_level                463 non-null    object \n",
      " 13  pregnancies                 457 non-null    float64\n",
      " 14  alcohol_consumption         484 non-null    object \n",
      " 15  diabetes                    469 non-null    float64\n",
      "dtypes: float64(9), object(7)\n",
      "memory usage: 76.4+ KB\n"
     ]
    }
   ],
   "source": [
    "# Example using IQR to handle outliers for 'BMI' column\n",
    "Q1 = diabetes_data['BMI'].quantile(0.25)\n",
    "Q3 = diabetes_data['BMI'].quantile(0.75)\n",
    "IQR = Q3 - Q1\n",
    "lower_bound = Q1 - 1.5 * IQR\n",
    "upper_bound = Q3 + 1.5 * IQR\n",
    "print(f'BMI Upper Bound: {round(upper_bound, 2)}')\n",
    "print(f'BMI Lower Bound: {round(lower_bound, 2)}')\n",
    "bmi_outliers = diabetes_data[(diabetes_data['BMI'] < lower_bound) | (diabetes_data['BMI'] > upper_bound)]\n",
    "bmi_outliers.info()\n",
    "\n",
    "# Function to remove outliers\n",
    "def remove_outliers(df, column):\n",
    "    Q1 = df[column].quantile(0.25)\n",
    "    Q3 = df[column].quantile(0.75)\n",
    "    IQR = Q3 - Q1\n",
    "    lower_bound = Q1 - 1.5 * IQR\n",
    "    upper_bound = Q3 + 1.5 * IQR\n",
    "    return df[(df[column] >= lower_bound) & (df[column] <= upper_bound)]"
   ]
  },
  {
   "cell_type": "markdown",
   "id": "a993ae33-e485-4ff4-a65f-978af693b1dc",
   "metadata": {},
   "source": [
    "##### **Part C: Handling Inconsistencies**"
   ]
  },
  {
   "cell_type": "code",
   "execution_count": 11,
   "id": "e656d396-5590-487d-a084-10f429b53405",
   "metadata": {},
   "outputs": [],
   "source": [
    "# Remove or Modify Irrelevant Columns\n",
    "\n",
    "# df.drop(columns=['star_sign', 'social_media_usage'], inplace=True)"
   ]
  },
  {
   "cell_type": "markdown",
   "id": "94e64601-5d3b-42b7-9cc5-51e381b274dc",
   "metadata": {},
   "source": [
    "##### **Part D: Encoding Categorical Variables**"
   ]
  },
  {
   "cell_type": "code",
   "execution_count": null,
   "id": "f1a14bd9-10a6-4518-9d7d-3530a9bc6fd7",
   "metadata": {},
   "outputs": [],
   "source": []
  },
  {
   "cell_type": "markdown",
   "id": "15399073-c036-4e50-a871-95ae29f00a82",
   "metadata": {},
   "source": [
    "##### **Part E: Normalising/Scaling Numerical Features**"
   ]
  },
  {
   "cell_type": "code",
   "execution_count": null,
   "id": "e9b679e3-66e6-4e94-842e-ada4f4828476",
   "metadata": {},
   "outputs": [],
   "source": []
  },
  {
   "cell_type": "markdown",
   "id": "6593a176-baa1-4a8d-997f-73965f190135",
   "metadata": {},
   "source": [
    "### **Part 3: Inital Exploratory Data Analysis (EDA)**"
   ]
  },
  {
   "cell_type": "code",
   "execution_count": 12,
   "id": "6be8839e-9d37-41de-bdd9-84ab4fefd70e",
   "metadata": {},
   "outputs": [],
   "source": [
    "import matplotlib.pyplot as plt\n",
    "import seaborn as sns"
   ]
  },
  {
   "cell_type": "code",
   "execution_count": 13,
   "id": "3c9f2277-bdb3-47c6-9d3a-1172c8f088a1",
   "metadata": {
    "collapsed": true,
    "jupyter": {
     "outputs_hidden": true
    }
   },
   "outputs": [
    {
     "name": "stdout",
     "output_type": "stream",
     "text": [
      "<class 'pandas.core.frame.DataFrame'>\n",
      "RangeIndex: 100000 entries, 0 to 99999\n",
      "Data columns (total 16 columns):\n",
      " #   Column                      Non-Null Count  Dtype  \n",
      "---  ------                      --------------  -----  \n",
      " 0   gender                      85769 non-null  object \n",
      " 1   age                         80145 non-null  float64\n",
      " 2   hypertension                80169 non-null  float64\n",
      " 3   diabetes_pedigree_function  80120 non-null  float64\n",
      " 4   diet_type                   79939 non-null  object \n",
      " 5   star_sign                   79806 non-null  object \n",
      " 6   BMI                         79934 non-null  float64\n",
      " 7   weight                      80126 non-null  float64\n",
      " 8   family_diabetes_history     79863 non-null  float64\n",
      " 9   social_media_usage          79968 non-null  object \n",
      " 10  physical_activity_level     80032 non-null  object \n",
      " 11  sleep_duration              80063 non-null  float64\n",
      " 12  stress_level                80024 non-null  object \n",
      " 13  pregnancies                 88817 non-null  float64\n",
      " 14  alcohol_consumption         79896 non-null  object \n",
      " 15  diabetes                    80242 non-null  float64\n",
      "dtypes: float64(9), object(7)\n",
      "memory usage: 12.2+ MB\n"
     ]
    }
   ],
   "source": [
    "# Summary info at column level\n",
    "diabetes_data.info()"
   ]
  },
  {
   "cell_type": "code",
   "execution_count": 14,
   "id": "02478551-06a6-4e57-827f-0b5758d323ba",
   "metadata": {},
   "outputs": [],
   "source": [
    "# Statistics, Distributions, Visualisations"
   ]
  },
  {
   "cell_type": "code",
   "execution_count": 16,
   "id": "8b6439cd-7b58-406c-9c31-af4e204577ca",
   "metadata": {
    "collapsed": true,
    "jupyter": {
     "outputs_hidden": true
    }
   },
   "outputs": [
    {
     "data": {
      "image/png": "[encoded data removed]",
      "text/plain": [
       "<Figure size 640x480 with 1 Axes>"
      ]
     },
     "metadata": {},
     "output_type": "display_data"
    }
   ],
   "source": [
    "# Histogram\n",
    "diabetes_data['BMI'].hist(bins=30)\n",
    "plt.title('BMI Distribution')\n",
    "plt.xlabel('BMI')\n",
    "plt.ylabel('Frequency')\n",
    "plt.show()"
   ]
  },
  {
   "cell_type": "markdown",
   "id": "f4fc1d79-cc4c-4565-8be0-0a3c68b91c1b",
   "metadata": {},
   "source": [
    "### **Part 4: Save the Processed Dataset**"
   ]
  },
  {
   "cell_type": "code",
   "execution_count": null,
   "id": "7b82bf74-e7ba-467f-af37-08d0f4140a58",
   "metadata": {},
   "outputs": [],
   "source": [
    "#diabetes_data.to_csv('cleaned_diabetes_data.csv', index=False)"
   ]
  }
 ],
 "metadata": {
  "kernelspec": {
   "display_name": "Python 3 (ipykernel)",
   "language": "python",
   "name": "python3"
  },
  "language_info": {
   "codemirror_mode": {
    "name": "ipython",
    "version": 3
   },
   "file_extension": ".py",
   "mimetype": "text/x-python",
   "name": "python",
   "nbconvert_exporter": "python",
   "pygments_lexer": "ipython3",
   "version": "3.12.7"
  }
 },
 "nbformat": 4,
 "nbformat_minor": 5
}
