{
 "cells": [
  {
   "cell_type": "code",
   "execution_count": 1,
   "metadata": {},
   "outputs": [
    {
     "name": "stderr",
     "output_type": "stream",
     "text": [
      "/Users/oreayoisrael-bolarinwa/opt/anaconda3/lib/python3.8/site-packages/pandas/core/computation/expressions.py:20: UserWarning: Pandas requires version '2.7.3' or newer of 'numexpr' (version '2.7.1' currently installed).\n",
      "  from pandas.core.computation.check import NUMEXPR_INSTALLED\n"
     ]
    }
   ],
   "source": [
    "import numpy as np\n",
    "from sklearn.preprocessing import OrdinalEncoder\n",
    "import pandas as pd\n",
    "import matplotlib.pyplot as plt\n",
    "import seaborn as sns\n",
    "sns.set()\n",
    "import warnings\n",
    "warnings.filterwarnings('ignore')\n",
    "%matplotlib inline"
   ]
  },
  {
   "cell_type": "code",
   "execution_count": 2,
   "metadata": {},
   "outputs": [],
   "source": [
    "df = pd.read_csv('diabetes_data.csv')"
   ]
  },
  {
   "cell_type": "code",
   "execution_count": 3,
   "metadata": {
    "scrolled": false
   },
   "outputs": [
    {
     "data": {
      "text/html": [
       "<div>\n",
       "<style scoped>\n",
       "    .dataframe tbody tr th:only-of-type {\n",
       "        vertical-align: middle;\n",
       "    }\n",
       "\n",
       "    .dataframe tbody tr th {\n",
       "        vertical-align: top;\n",
       "    }\n",
       "\n",
       "    .dataframe thead th {\n",
       "        text-align: right;\n",
       "    }\n",
       "</style>\n",
       "<table border=\"1\" class=\"dataframe\">\n",
       "  <thead>\n",
       "    <tr style=\"text-align: right;\">\n",
       "      <th></th>\n",
       "      <th>gender</th>\n",
       "      <th>age</th>\n",
       "      <th>hypertension</th>\n",
       "      <th>diabetes_pedigree_function</th>\n",
       "      <th>diet_type</th>\n",
       "      <th>star_sign</th>\n",
       "      <th>BMI</th>\n",
       "      <th>weight</th>\n",
       "      <th>family_diabetes_history</th>\n",
       "      <th>social_media_usage</th>\n",
       "      <th>physical_activity_level</th>\n",
       "      <th>sleep_duration</th>\n",
       "      <th>stress_level</th>\n",
       "      <th>pregnancies</th>\n",
       "      <th>alcohol_consumption</th>\n",
       "      <th>diabetes</th>\n",
       "    </tr>\n",
       "  </thead>\n",
       "  <tbody>\n",
       "    <tr>\n",
       "      <th>0</th>\n",
       "      <td>female</td>\n",
       "      <td>NaN</td>\n",
       "      <td>NaN</td>\n",
       "      <td>0.37</td>\n",
       "      <td>paleo</td>\n",
       "      <td>NaN</td>\n",
       "      <td>NaN</td>\n",
       "      <td>197.7</td>\n",
       "      <td>NaN</td>\n",
       "      <td>Occasionally</td>\n",
       "      <td>Sedentary</td>\n",
       "      <td>1.5</td>\n",
       "      <td>Low</td>\n",
       "      <td>NaN</td>\n",
       "      <td>light</td>\n",
       "      <td>1.0</td>\n",
       "    </tr>\n",
       "    <tr>\n",
       "      <th>1</th>\n",
       "      <td>male</td>\n",
       "      <td>59.0</td>\n",
       "      <td>0.0</td>\n",
       "      <td>0.73</td>\n",
       "      <td>NaN</td>\n",
       "      <td>Leo</td>\n",
       "      <td>17.1</td>\n",
       "      <td>156.5</td>\n",
       "      <td>0.0</td>\n",
       "      <td>Occasionally</td>\n",
       "      <td>Lightly Active</td>\n",
       "      <td>5.4</td>\n",
       "      <td>Moderate</td>\n",
       "      <td>0.0</td>\n",
       "      <td>none</td>\n",
       "      <td>1.0</td>\n",
       "    </tr>\n",
       "    <tr>\n",
       "      <th>2</th>\n",
       "      <td>female</td>\n",
       "      <td>31.0</td>\n",
       "      <td>NaN</td>\n",
       "      <td>NaN</td>\n",
       "      <td>NaN</td>\n",
       "      <td>NaN</td>\n",
       "      <td>22.5</td>\n",
       "      <td>137.8</td>\n",
       "      <td>NaN</td>\n",
       "      <td>Occasionally</td>\n",
       "      <td>Lightly Active</td>\n",
       "      <td>7.6</td>\n",
       "      <td>Low</td>\n",
       "      <td>0.0</td>\n",
       "      <td>light</td>\n",
       "      <td>1.0</td>\n",
       "    </tr>\n",
       "    <tr>\n",
       "      <th>3</th>\n",
       "      <td>female</td>\n",
       "      <td>81.0</td>\n",
       "      <td>1.0</td>\n",
       "      <td>0.37</td>\n",
       "      <td>pescatarian</td>\n",
       "      <td>NaN</td>\n",
       "      <td>NaN</td>\n",
       "      <td>108.2</td>\n",
       "      <td>0.0</td>\n",
       "      <td>NaN</td>\n",
       "      <td>Sedentary</td>\n",
       "      <td>7.7</td>\n",
       "      <td>Low</td>\n",
       "      <td>1.0</td>\n",
       "      <td>heavy</td>\n",
       "      <td>NaN</td>\n",
       "    </tr>\n",
       "    <tr>\n",
       "      <th>4</th>\n",
       "      <td>NaN</td>\n",
       "      <td>64.0</td>\n",
       "      <td>0.0</td>\n",
       "      <td>0.55</td>\n",
       "      <td>carnivore</td>\n",
       "      <td>NaN</td>\n",
       "      <td>NaN</td>\n",
       "      <td>179.7</td>\n",
       "      <td>NaN</td>\n",
       "      <td>Occasionally</td>\n",
       "      <td>Sedentary</td>\n",
       "      <td>7.8</td>\n",
       "      <td>NaN</td>\n",
       "      <td>0.0</td>\n",
       "      <td>heavy</td>\n",
       "      <td>1.0</td>\n",
       "    </tr>\n",
       "  </tbody>\n",
       "</table>\n",
       "</div>"
      ],
      "text/plain": [
       "   gender   age  hypertension  diabetes_pedigree_function    diet_type  \\\n",
       "0  female   NaN           NaN                        0.37        paleo   \n",
       "1    male  59.0           0.0                        0.73          NaN   \n",
       "2  female  31.0           NaN                         NaN          NaN   \n",
       "3  female  81.0           1.0                        0.37  pescatarian   \n",
       "4     NaN  64.0           0.0                        0.55    carnivore   \n",
       "\n",
       "  star_sign   BMI  weight  family_diabetes_history social_media_usage  \\\n",
       "0       NaN   NaN   197.7                      NaN       Occasionally   \n",
       "1       Leo  17.1   156.5                      0.0       Occasionally   \n",
       "2       NaN  22.5   137.8                      NaN       Occasionally   \n",
       "3       NaN   NaN   108.2                      0.0                NaN   \n",
       "4       NaN   NaN   179.7                      NaN       Occasionally   \n",
       "\n",
       "  physical_activity_level  sleep_duration stress_level  pregnancies  \\\n",
       "0               Sedentary             1.5          Low          NaN   \n",
       "1          Lightly Active             5.4     Moderate          0.0   \n",
       "2          Lightly Active             7.6          Low          0.0   \n",
       "3               Sedentary             7.7          Low          1.0   \n",
       "4               Sedentary             7.8          NaN          0.0   \n",
       "\n",
       "  alcohol_consumption  diabetes  \n",
       "0               light       1.0  \n",
       "1                none       1.0  \n",
       "2               light       1.0  \n",
       "3               heavy       NaN  \n",
       "4               heavy       1.0  "
      ]
     },
     "execution_count": 3,
     "metadata": {},
     "output_type": "execute_result"
    }
   ],
   "source": [
    "df.head()"
   ]
  },
  {
   "cell_type": "code",
   "execution_count": 4,
   "metadata": {},
   "outputs": [
    {
     "name": "stdout",
     "output_type": "stream",
     "text": [
      "number of rows: 100000\n"
     ]
    }
   ],
   "source": [
    "# number of rows in dataset\n",
    "\n",
    "print(f'number of rows: {len(df)}')"
   ]
  },
  {
   "cell_type": "code",
   "execution_count": 5,
   "metadata": {
    "scrolled": false
   },
   "outputs": [
    {
     "name": "stdout",
     "output_type": "stream",
     "text": [
      "<class 'pandas.core.frame.DataFrame'>\n",
      "RangeIndex: 100000 entries, 0 to 99999\n",
      "Data columns (total 16 columns):\n",
      " #   Column                      Non-Null Count  Dtype  \n",
      "---  ------                      --------------  -----  \n",
      " 0   gender                      79954 non-null  object \n",
      " 1   age                         80145 non-null  float64\n",
      " 2   hypertension                80169 non-null  float64\n",
      " 3   diabetes_pedigree_function  80120 non-null  float64\n",
      " 4   diet_type                   79939 non-null  object \n",
      " 5   star_sign                   79806 non-null  object \n",
      " 6   BMI                         79934 non-null  float64\n",
      " 7   weight                      80126 non-null  float64\n",
      " 8   family_diabetes_history     79863 non-null  float64\n",
      " 9   social_media_usage          79968 non-null  object \n",
      " 10  physical_activity_level     80032 non-null  object \n",
      " 11  sleep_duration              80063 non-null  float64\n",
      " 12  stress_level                80024 non-null  object \n",
      " 13  pregnancies                 80033 non-null  float64\n",
      " 14  alcohol_consumption         79896 non-null  object \n",
      " 15  diabetes                    80242 non-null  float64\n",
      "dtypes: float64(9), object(7)\n",
      "memory usage: 12.2+ MB\n"
     ]
    }
   ],
   "source": [
    "df.info(verbose=True)"
   ]
  },
  {
   "cell_type": "code",
   "execution_count": 6,
   "metadata": {},
   "outputs": [],
   "source": [
    "# immediately remove rows that don't have a value for diabetes \n",
    "\n",
    "diabetes_data = df[df['diabetes'].isnull() == False]"
   ]
  },
  {
   "cell_type": "code",
   "execution_count": 7,
   "metadata": {
    "scrolled": true
   },
   "outputs": [
    {
     "name": "stdout",
     "output_type": "stream",
     "text": [
      "<class 'pandas.core.frame.DataFrame'>\n",
      "Index: 80242 entries, 0 to 99999\n",
      "Data columns (total 16 columns):\n",
      " #   Column                      Non-Null Count  Dtype  \n",
      "---  ------                      --------------  -----  \n",
      " 0   gender                      64068 non-null  object \n",
      " 1   age                         64265 non-null  float64\n",
      " 2   hypertension                64333 non-null  float64\n",
      " 3   diabetes_pedigree_function  64270 non-null  float64\n",
      " 4   diet_type                   64163 non-null  object \n",
      " 5   star_sign                   63962 non-null  object \n",
      " 6   BMI                         64080 non-null  float64\n",
      " 7   weight                      64313 non-null  float64\n",
      " 8   family_diabetes_history     64029 non-null  float64\n",
      " 9   social_media_usage          64112 non-null  object \n",
      " 10  physical_activity_level     64175 non-null  object \n",
      " 11  sleep_duration              64259 non-null  float64\n",
      " 12  stress_level                64291 non-null  object \n",
      " 13  pregnancies                 64237 non-null  float64\n",
      " 14  alcohol_consumption         64095 non-null  object \n",
      " 15  diabetes                    80242 non-null  float64\n",
      "dtypes: float64(9), object(7)\n",
      "memory usage: 10.4+ MB\n"
     ]
    }
   ],
   "source": [
    "diabetes_data.info(verbose=True)"
   ]
  },
  {
   "cell_type": "code",
   "execution_count": 8,
   "metadata": {
    "scrolled": false
   },
   "outputs": [
    {
     "data": {
      "text/html": [
       "<div>\n",
       "<style scoped>\n",
       "    .dataframe tbody tr th:only-of-type {\n",
       "        vertical-align: middle;\n",
       "    }\n",
       "\n",
       "    .dataframe tbody tr th {\n",
       "        vertical-align: top;\n",
       "    }\n",
       "\n",
       "    .dataframe thead th {\n",
       "        text-align: right;\n",
       "    }\n",
       "</style>\n",
       "<table border=\"1\" class=\"dataframe\">\n",
       "  <thead>\n",
       "    <tr style=\"text-align: right;\">\n",
       "      <th></th>\n",
       "      <th>count</th>\n",
       "      <th>mean</th>\n",
       "      <th>std</th>\n",
       "      <th>min</th>\n",
       "      <th>25%</th>\n",
       "      <th>50%</th>\n",
       "      <th>75%</th>\n",
       "      <th>max</th>\n",
       "    </tr>\n",
       "  </thead>\n",
       "  <tbody>\n",
       "    <tr>\n",
       "      <th>age</th>\n",
       "      <td>80145.0</td>\n",
       "      <td>45.107306</td>\n",
       "      <td>18.550434</td>\n",
       "      <td>18.0</td>\n",
       "      <td>27.00</td>\n",
       "      <td>45.0</td>\n",
       "      <td>60.00</td>\n",
       "      <td>91.0</td>\n",
       "    </tr>\n",
       "    <tr>\n",
       "      <th>hypertension</th>\n",
       "      <td>80169.0</td>\n",
       "      <td>0.202248</td>\n",
       "      <td>0.401678</td>\n",
       "      <td>0.0</td>\n",
       "      <td>0.00</td>\n",
       "      <td>0.0</td>\n",
       "      <td>0.00</td>\n",
       "      <td>1.0</td>\n",
       "    </tr>\n",
       "    <tr>\n",
       "      <th>diabetes_pedigree_function</th>\n",
       "      <td>80120.0</td>\n",
       "      <td>0.500877</td>\n",
       "      <td>0.173783</td>\n",
       "      <td>0.2</td>\n",
       "      <td>0.35</td>\n",
       "      <td>0.5</td>\n",
       "      <td>0.65</td>\n",
       "      <td>0.8</td>\n",
       "    </tr>\n",
       "    <tr>\n",
       "      <th>BMI</th>\n",
       "      <td>79934.0</td>\n",
       "      <td>26.978545</td>\n",
       "      <td>6.005039</td>\n",
       "      <td>1.8</td>\n",
       "      <td>22.90</td>\n",
       "      <td>27.0</td>\n",
       "      <td>31.00</td>\n",
       "      <td>53.1</td>\n",
       "    </tr>\n",
       "    <tr>\n",
       "      <th>weight</th>\n",
       "      <td>80126.0</td>\n",
       "      <td>150.526618</td>\n",
       "      <td>57.731539</td>\n",
       "      <td>50.0</td>\n",
       "      <td>100.30</td>\n",
       "      <td>150.9</td>\n",
       "      <td>200.40</td>\n",
       "      <td>250.0</td>\n",
       "    </tr>\n",
       "    <tr>\n",
       "      <th>family_diabetes_history</th>\n",
       "      <td>79863.0</td>\n",
       "      <td>0.302167</td>\n",
       "      <td>0.459200</td>\n",
       "      <td>0.0</td>\n",
       "      <td>0.00</td>\n",
       "      <td>0.0</td>\n",
       "      <td>1.00</td>\n",
       "      <td>1.0</td>\n",
       "    </tr>\n",
       "    <tr>\n",
       "      <th>sleep_duration</th>\n",
       "      <td>80063.0</td>\n",
       "      <td>5.295149</td>\n",
       "      <td>2.842133</td>\n",
       "      <td>0.0</td>\n",
       "      <td>3.30</td>\n",
       "      <td>5.3</td>\n",
       "      <td>7.00</td>\n",
       "      <td>12.0</td>\n",
       "    </tr>\n",
       "    <tr>\n",
       "      <th>pregnancies</th>\n",
       "      <td>80033.0</td>\n",
       "      <td>0.758212</td>\n",
       "      <td>1.281326</td>\n",
       "      <td>0.0</td>\n",
       "      <td>0.00</td>\n",
       "      <td>0.0</td>\n",
       "      <td>1.00</td>\n",
       "      <td>5.0</td>\n",
       "    </tr>\n",
       "    <tr>\n",
       "      <th>diabetes</th>\n",
       "      <td>80242.0</td>\n",
       "      <td>0.954936</td>\n",
       "      <td>0.207445</td>\n",
       "      <td>0.0</td>\n",
       "      <td>1.00</td>\n",
       "      <td>1.0</td>\n",
       "      <td>1.00</td>\n",
       "      <td>1.0</td>\n",
       "    </tr>\n",
       "  </tbody>\n",
       "</table>\n",
       "</div>"
      ],
      "text/plain": [
       "                              count        mean        std   min     25%  \\\n",
       "age                         80145.0   45.107306  18.550434  18.0   27.00   \n",
       "hypertension                80169.0    0.202248   0.401678   0.0    0.00   \n",
       "diabetes_pedigree_function  80120.0    0.500877   0.173783   0.2    0.35   \n",
       "BMI                         79934.0   26.978545   6.005039   1.8   22.90   \n",
       "weight                      80126.0  150.526618  57.731539  50.0  100.30   \n",
       "family_diabetes_history     79863.0    0.302167   0.459200   0.0    0.00   \n",
       "sleep_duration              80063.0    5.295149   2.842133   0.0    3.30   \n",
       "pregnancies                 80033.0    0.758212   1.281326   0.0    0.00   \n",
       "diabetes                    80242.0    0.954936   0.207445   0.0    1.00   \n",
       "\n",
       "                              50%     75%    max  \n",
       "age                          45.0   60.00   91.0  \n",
       "hypertension                  0.0    0.00    1.0  \n",
       "diabetes_pedigree_function    0.5    0.65    0.8  \n",
       "BMI                          27.0   31.00   53.1  \n",
       "weight                      150.9  200.40  250.0  \n",
       "family_diabetes_history       0.0    1.00    1.0  \n",
       "sleep_duration                5.3    7.00   12.0  \n",
       "pregnancies                   0.0    1.00    5.0  \n",
       "diabetes                      1.0    1.00    1.0  "
      ]
     },
     "execution_count": 8,
     "metadata": {},
     "output_type": "execute_result"
    }
   ],
   "source": [
    "df.describe().T"
   ]
  },
  {
   "cell_type": "code",
   "execution_count": 9,
   "metadata": {},
   "outputs": [
    {
     "data": {
      "text/html": [
       "<div>\n",
       "<style scoped>\n",
       "    .dataframe tbody tr th:only-of-type {\n",
       "        vertical-align: middle;\n",
       "    }\n",
       "\n",
       "    .dataframe tbody tr th {\n",
       "        vertical-align: top;\n",
       "    }\n",
       "\n",
       "    .dataframe thead th {\n",
       "        text-align: right;\n",
       "    }\n",
       "</style>\n",
       "<table border=\"1\" class=\"dataframe\">\n",
       "  <thead>\n",
       "    <tr style=\"text-align: right;\">\n",
       "      <th></th>\n",
       "      <th>count</th>\n",
       "      <th>mean</th>\n",
       "      <th>std</th>\n",
       "      <th>min</th>\n",
       "      <th>25%</th>\n",
       "      <th>50%</th>\n",
       "      <th>75%</th>\n",
       "      <th>max</th>\n",
       "    </tr>\n",
       "  </thead>\n",
       "  <tbody>\n",
       "    <tr>\n",
       "      <th>age</th>\n",
       "      <td>64265.0</td>\n",
       "      <td>45.084930</td>\n",
       "      <td>18.534863</td>\n",
       "      <td>18.0</td>\n",
       "      <td>27.00</td>\n",
       "      <td>45.0</td>\n",
       "      <td>60.00</td>\n",
       "      <td>91.0</td>\n",
       "    </tr>\n",
       "    <tr>\n",
       "      <th>hypertension</th>\n",
       "      <td>64333.0</td>\n",
       "      <td>0.201359</td>\n",
       "      <td>0.401018</td>\n",
       "      <td>0.0</td>\n",
       "      <td>0.00</td>\n",
       "      <td>0.0</td>\n",
       "      <td>0.00</td>\n",
       "      <td>1.0</td>\n",
       "    </tr>\n",
       "    <tr>\n",
       "      <th>diabetes_pedigree_function</th>\n",
       "      <td>64270.0</td>\n",
       "      <td>0.501592</td>\n",
       "      <td>0.173897</td>\n",
       "      <td>0.2</td>\n",
       "      <td>0.35</td>\n",
       "      <td>0.5</td>\n",
       "      <td>0.65</td>\n",
       "      <td>0.8</td>\n",
       "    </tr>\n",
       "    <tr>\n",
       "      <th>BMI</th>\n",
       "      <td>64080.0</td>\n",
       "      <td>26.975354</td>\n",
       "      <td>6.005087</td>\n",
       "      <td>1.8</td>\n",
       "      <td>22.90</td>\n",
       "      <td>27.0</td>\n",
       "      <td>31.00</td>\n",
       "      <td>52.9</td>\n",
       "    </tr>\n",
       "    <tr>\n",
       "      <th>weight</th>\n",
       "      <td>64313.0</td>\n",
       "      <td>150.534687</td>\n",
       "      <td>57.759211</td>\n",
       "      <td>50.0</td>\n",
       "      <td>100.20</td>\n",
       "      <td>150.8</td>\n",
       "      <td>200.50</td>\n",
       "      <td>250.0</td>\n",
       "    </tr>\n",
       "    <tr>\n",
       "      <th>family_diabetes_history</th>\n",
       "      <td>64029.0</td>\n",
       "      <td>0.302379</td>\n",
       "      <td>0.459292</td>\n",
       "      <td>0.0</td>\n",
       "      <td>0.00</td>\n",
       "      <td>0.0</td>\n",
       "      <td>1.00</td>\n",
       "      <td>1.0</td>\n",
       "    </tr>\n",
       "    <tr>\n",
       "      <th>sleep_duration</th>\n",
       "      <td>64259.0</td>\n",
       "      <td>5.300389</td>\n",
       "      <td>2.838889</td>\n",
       "      <td>0.0</td>\n",
       "      <td>3.40</td>\n",
       "      <td>5.3</td>\n",
       "      <td>7.00</td>\n",
       "      <td>12.0</td>\n",
       "    </tr>\n",
       "    <tr>\n",
       "      <th>pregnancies</th>\n",
       "      <td>64237.0</td>\n",
       "      <td>0.757632</td>\n",
       "      <td>1.280677</td>\n",
       "      <td>0.0</td>\n",
       "      <td>0.00</td>\n",
       "      <td>0.0</td>\n",
       "      <td>1.00</td>\n",
       "      <td>5.0</td>\n",
       "    </tr>\n",
       "    <tr>\n",
       "      <th>diabetes</th>\n",
       "      <td>80242.0</td>\n",
       "      <td>0.954936</td>\n",
       "      <td>0.207445</td>\n",
       "      <td>0.0</td>\n",
       "      <td>1.00</td>\n",
       "      <td>1.0</td>\n",
       "      <td>1.00</td>\n",
       "      <td>1.0</td>\n",
       "    </tr>\n",
       "  </tbody>\n",
       "</table>\n",
       "</div>"
      ],
      "text/plain": [
       "                              count        mean        std   min     25%  \\\n",
       "age                         64265.0   45.084930  18.534863  18.0   27.00   \n",
       "hypertension                64333.0    0.201359   0.401018   0.0    0.00   \n",
       "diabetes_pedigree_function  64270.0    0.501592   0.173897   0.2    0.35   \n",
       "BMI                         64080.0   26.975354   6.005087   1.8   22.90   \n",
       "weight                      64313.0  150.534687  57.759211  50.0  100.20   \n",
       "family_diabetes_history     64029.0    0.302379   0.459292   0.0    0.00   \n",
       "sleep_duration              64259.0    5.300389   2.838889   0.0    3.40   \n",
       "pregnancies                 64237.0    0.757632   1.280677   0.0    0.00   \n",
       "diabetes                    80242.0    0.954936   0.207445   0.0    1.00   \n",
       "\n",
       "                              50%     75%    max  \n",
       "age                          45.0   60.00   91.0  \n",
       "hypertension                  0.0    0.00    1.0  \n",
       "diabetes_pedigree_function    0.5    0.65    0.8  \n",
       "BMI                          27.0   31.00   52.9  \n",
       "weight                      150.8  200.50  250.0  \n",
       "family_diabetes_history       0.0    1.00    1.0  \n",
       "sleep_duration                5.3    7.00   12.0  \n",
       "pregnancies                   0.0    1.00    5.0  \n",
       "diabetes                      1.0    1.00    1.0  "
      ]
     },
     "execution_count": 9,
     "metadata": {},
     "output_type": "execute_result"
    }
   ],
   "source": [
    "diabetes_data.describe().T"
   ]
  },
  {
   "cell_type": "markdown",
   "metadata": {},
   "source": [
    "#### The comparision of data description pre and post diabetes null removal shows no significant changes."
   ]
  },
  {
   "cell_type": "code",
   "execution_count": 10,
   "metadata": {
    "scrolled": false
   },
   "outputs": [
    {
     "data": {
      "text/plain": [
       "gender                        20046\n",
       "age                           19855\n",
       "hypertension                  19831\n",
       "diabetes_pedigree_function    19880\n",
       "diet_type                     20061\n",
       "star_sign                     20194\n",
       "BMI                           20066\n",
       "weight                        19874\n",
       "family_diabetes_history       20137\n",
       "social_media_usage            20032\n",
       "physical_activity_level       19968\n",
       "sleep_duration                19937\n",
       "stress_level                  19976\n",
       "pregnancies                   19967\n",
       "alcohol_consumption           20104\n",
       "diabetes                      19758\n",
       "dtype: int64"
      ]
     },
     "execution_count": 10,
     "metadata": {},
     "output_type": "execute_result"
    }
   ],
   "source": [
    "df.isnull().sum()"
   ]
  },
  {
   "cell_type": "code",
   "execution_count": 11,
   "metadata": {
    "scrolled": false
   },
   "outputs": [
    {
     "data": {
      "text/plain": [
       "gender                        16174\n",
       "age                           15977\n",
       "hypertension                  15909\n",
       "diabetes_pedigree_function    15972\n",
       "diet_type                     16079\n",
       "star_sign                     16280\n",
       "BMI                           16162\n",
       "weight                        15929\n",
       "family_diabetes_history       16213\n",
       "social_media_usage            16130\n",
       "physical_activity_level       16067\n",
       "sleep_duration                15983\n",
       "stress_level                  15951\n",
       "pregnancies                   16005\n",
       "alcohol_consumption           16147\n",
       "diabetes                          0\n",
       "dtype: int64"
      ]
     },
     "execution_count": 11,
     "metadata": {},
     "output_type": "execute_result"
    }
   ],
   "source": [
    "diabetes_data.isnull().sum()"
   ]
  },
  {
   "cell_type": "code",
   "execution_count": 12,
   "metadata": {
    "scrolled": false
   },
   "outputs": [
    {
     "data": {
      "text/plain": [
       "['gender',\n",
       " 'age',\n",
       " 'hypertension',\n",
       " 'diabetes_pedigree_function',\n",
       " 'diet_type',\n",
       " 'star_sign',\n",
       " 'BMI',\n",
       " 'weight',\n",
       " 'family_diabetes_history',\n",
       " 'social_media_usage',\n",
       " 'physical_activity_level',\n",
       " 'sleep_duration',\n",
       " 'stress_level',\n",
       " 'pregnancies',\n",
       " 'alcohol_consumption',\n",
       " 'diabetes']"
      ]
     },
     "execution_count": 12,
     "metadata": {},
     "output_type": "execute_result"
    }
   ],
   "source": [
    "list(df.columns)"
   ]
  },
  {
   "cell_type": "code",
   "execution_count": 13,
   "metadata": {},
   "outputs": [],
   "source": [
    "def return_value_counts(col, df):\n",
    "    \n",
    "    value_counts = df[col].value_counts().rename_axis('unique_values').reset_index(name='counts')\n",
    "    \n",
    "    return value_counts\n"
   ]
  },
  {
   "cell_type": "code",
   "execution_count": 14,
   "metadata": {
    "scrolled": true
   },
   "outputs": [
    {
     "name": "stdout",
     "output_type": "stream",
     "text": [
      "gender \n",
      "\n",
      "unique values: ['female', 'male', nan]\n",
      "\n",
      "  unique_values  counts\n",
      "0          male   35252\n",
      "1        female   28816 \n",
      "\n",
      "nulls: 16174\n",
      "\n",
      "diet_type \n",
      "\n",
      "unique values: ['paleo', nan, 'carnivore', 'low carb', 'vegetarian', 'mediterranean', 'raw food', 'vegan', 'ketogenic', 'pescatarian', 'gluten free', 'atkins', 'weight watchers']\n",
      "\n",
      "      unique_values  counts\n",
      "0       pescatarian    5417\n",
      "1            atkins    5408\n",
      "2     mediterranean    5399\n",
      "3        vegetarian    5369\n",
      "4          raw food    5354\n",
      "5         ketogenic    5354\n",
      "6         carnivore    5352\n",
      "7   weight watchers    5350\n",
      "8             vegan    5340\n",
      "9       gluten free    5340\n",
      "10         low carb    5244\n",
      "11            paleo    5236 \n",
      "\n",
      "nulls: 16079\n",
      "\n",
      "star_sign \n",
      "\n",
      "unique values: [nan, 'Leo', 'Capricorn', 'Scorpio', 'Virgo', 'Taurus', 'Cancer', 'Libra', 'Aries', 'Gemini', 'Aquarius', 'Pisces', 'Sagittarius']\n",
      "\n",
      "   unique_values  counts\n",
      "0    Sagittarius    5430\n",
      "1         Cancer    5401\n",
      "2         Gemini    5362\n",
      "3        Scorpio    5350\n",
      "4          Virgo    5349\n",
      "5          Libra    5339\n",
      "6          Aries    5312\n",
      "7         Taurus    5304\n",
      "8      Capricorn    5293\n",
      "9         Pisces    5291\n",
      "10      Aquarius    5290\n",
      "11           Leo    5241 \n",
      "\n",
      "nulls: 16280\n",
      "\n",
      "social_media_usage \n",
      "\n",
      "unique values: ['Occasionally', 'Excessive', 'Never', 'Moderate', nan]\n",
      "\n",
      "  unique_values  counts\n",
      "0      Moderate   16161\n",
      "1  Occasionally   16003\n",
      "2     Excessive   15985\n",
      "3         Never   15963 \n",
      "\n",
      "nulls: 16130\n",
      "\n",
      "physical_activity_level \n",
      "\n",
      "unique values: ['Sedentary', 'Lightly Active', 'Moderately Active', nan, 'Extremely Active', 'Very Active']\n",
      "\n",
      "       unique_values  counts\n",
      "0          Sedentary   37521\n",
      "1     Lightly Active   18922\n",
      "2  Moderately Active    6595\n",
      "3        Very Active     583\n",
      "4   Extremely Active     554 \n",
      "\n",
      "nulls: 16067\n",
      "\n",
      "alcohol_consumption \n",
      "\n",
      "unique values: ['light', 'none', 'heavy', 'moderate', nan]\n",
      "\n",
      "  unique_values  counts\n",
      "0         heavy   24665\n",
      "1          none   19592\n",
      "2         light   13213\n",
      "3      moderate    6625 \n",
      "\n",
      "nulls: 16147\n",
      "\n"
     ]
    }
   ],
   "source": [
    "categorical_cols = ['gender', 'diet_type', 'star_sign', \n",
    "                    'social_media_usage', 'physical_activity_level',\n",
    "                   'alcohol_consumption']\n",
    "\n",
    "for col in categorical_cols:\n",
    "    \n",
    "    print(col, '\\n')\n",
    "    \n",
    "    print(f'unique values: {list(diabetes_data[col].unique())}\\n')\n",
    "    \n",
    "    x = return_value_counts(col, diabetes_data)\n",
    "    \n",
    "    print(x, '\\n')\n",
    "    \n",
    "    print(f'nulls: {diabetes_data[col].isnull().sum()}\\n')\n",
    "     \n",
    "    "
   ]
  },
  {
   "cell_type": "code",
   "execution_count": 15,
   "metadata": {
    "scrolled": true
   },
   "outputs": [
    {
     "data": {
      "image/png": "[encoded data removed]",
      "text/plain": [
       "<Figure size 864x720 with 2 Axes>"
      ]
     },
     "metadata": {
      "needs_background": "light"
     },
     "output_type": "display_data"
    }
   ],
   "source": [
    "df_numeric = ['age', 'BMI', 'weight', 'sleep_duration',\n",
    "             'hypertension', 'family_diabetes_history', 'pregnancies',\n",
    "             'diabetes_pedigree_function', 'diabetes']\n",
    "\n",
    "plt.figure(figsize=(12,10))  # on this line I just set the size of figure to 12 by 10.\n",
    "p=sns.heatmap(df[df_numeric].corr(), annot=True,cmap ='RdYlGn')  # seaborn has very simple solution for heatmap"
   ]
  },
  {
   "cell_type": "code",
   "execution_count": 16,
   "metadata": {
    "scrolled": true
   },
   "outputs": [
    {
     "data": {
      "image/png": "[encoded data removed]",
      "text/plain": [
       "<Figure size 1008x1080 with 6 Axes>"
      ]
     },
     "metadata": {
      "needs_background": "light"
     },
     "output_type": "display_data"
    }
   ],
   "source": [
    "# Filter for only categorical columns\n",
    "num_columns = len(categorical_cols)\n",
    "num_rows = (num_columns + 1) // 2  # Adjust to fit in a grid\n",
    "\n",
    "# Create a figure with subplots\n",
    "fig, axes = plt.subplots(num_rows, 2, figsize=(14, num_rows * 5))\n",
    "axes = axes.ravel()  # Flatten the array for easy iteration\n",
    "\n",
    "# Plot value counts for each categorical column\n",
    "for i, col in enumerate(categorical_cols):\n",
    "    value_counts = diabetes_data[col].value_counts()\n",
    "    axes[i].bar(value_counts.index, value_counts.values, color='skyblue', edgecolor='black')\n",
    "    axes[i].set_title(f'Value Counts of {col}')\n",
    "    axes[i].set_xlabel(col)\n",
    "    axes[i].set_ylabel('Frequency')\n",
    "    axes[i].set_xticklabels(value_counts.index, rotation=45)  # Rotate labels for readability\n",
    "\n",
    "# Hide any extra subplots if the number of columns is odd\n",
    "for j in range(i + 1, len(axes)):\n",
    "    fig.delaxes(axes[j])\n",
    "\n",
    "# Adjust layout\n",
    "plt.tight_layout()\n",
    "plt.show()"
   ]
  },
  {
   "cell_type": "code",
   "execution_count": 17,
   "metadata": {
    "scrolled": true
   },
   "outputs": [
    {
     "data": {
      "image/png": "[encoded data removed]",
      "text/plain": [
       "<Figure size 864x1440 with 9 Axes>"
      ]
     },
     "metadata": {
      "needs_background": "light"
     },
     "output_type": "display_data"
    }
   ],
   "source": [
    "df_numeric = ['age', 'BMI', 'weight', 'sleep_duration',\n",
    "             'hypertension', 'family_diabetes_history', 'pregnancies',\n",
    "             'diabetes_pedigree_function', 'diabetes']\n",
    "\n",
    "num_columns = len(df_numeric)\n",
    "\n",
    "num_rows = (num_columns + 1) // 2  # to set up a grid layout\n",
    "\n",
    "# Create a figure with subplots\n",
    "fig, axes = plt.subplots(num_rows, 2, figsize=(12, num_rows * 4))\n",
    "axes = axes.ravel()  # Flatten the axes array for easy iteration\n",
    "\n",
    "\n",
    "# Plot each column's histogram\n",
    "for i, col in enumerate(df[df_numeric]):\n",
    "    # Drop non-numeric columns to avoid errors in plotting\n",
    "    if pd.api.types.is_numeric_dtype(df[col]):\n",
    "        axes[i].hist(diabetes_data[col].dropna(), bins=20, color='skyblue', edgecolor='black')\n",
    "        axes[i].set_title(f'Histogram of {col}')\n",
    "        axes[i].set_xlabel(col)\n",
    "        axes[i].set_ylabel('Frequency')\n",
    "    else:\n",
    "        axes[i].text(0.5, 0.5, f\"{col} is non-numeric\", ha='center', va='center')\n",
    "        axes[i].set_title(f'{col} (non-numeric)')\n",
    "        axes[i].set_xticks([])\n",
    "        axes[i].set_yticks([])\n",
    "\n",
    "# Hide any extra subplots if the number of columns is odd\n",
    "for j in range(i + 1, len(axes)):\n",
    "    fig.delaxes(axes[j])\n",
    "\n",
    "# Adjust layout\n",
    "plt.tight_layout()\n",
    "plt.show()\n"
   ]
  },
  {
   "cell_type": "markdown",
   "metadata": {},
   "source": [
    "#### Notes:\n",
    "\n",
    "    - diabetes_pedigree_function is fairly uniformally distributed\n",
    "    - sleep_duration, histogram, is skewed\n",
    "    - BMI is normally distributed\n",
    "\n",
    "- Missing values will be replace with median for skewed features\n",
    "\n",
    "- Mean will be applied for uniformly distributed features\n",
    "\n",
    "- Binary values missing will be replaced by random sampling to maintain the current proportions and reduce the likelihood of bias. \n",
    "\n",
    "- Missing Categorical values will be replaced by \"Unknown\"\n"
   ]
  },
  {
   "cell_type": "code",
   "execution_count": 18,
   "metadata": {},
   "outputs": [],
   "source": [
    "new_data = diabetes_data"
   ]
  },
  {
   "cell_type": "markdown",
   "metadata": {},
   "source": [
    "#### Dealing with Outliers (e.g. sleep_duration, weight, BMI)\n",
    "\n",
    "For continuous values, we will apply capping/flooring techniques. Replacing outliers with the nearest acceptable value (e.g., 5th and 95th percentiles)."
   ]
  },
  {
   "cell_type": "code",
   "execution_count": 19,
   "metadata": {},
   "outputs": [
    {
     "name": "stdout",
     "output_type": "stream",
     "text": [
      "sleep_duration 80th Percentile: 7.7 \n",
      "\n",
      "sleep_duration 20th Percentile: 2.0 \n",
      "\n"
     ]
    }
   ],
   "source": [
    "# sleep_duration outliers\n",
    "\n",
    "upper_bound = new_data['sleep_duration'].quantile(0.85)\n",
    "\n",
    "lower_bound = new_data['sleep_duration'].quantile(0.15)\n",
    "\n",
    "print(f'sleep_duration 80th Percentile: {upper_bound} \\n')\n",
    "    \n",
    "print(f'sleep_duration 20th Percentile: {lower_bound} \\n')\n",
    "\n",
    "new_data['sleep_duration'] = new_data['sleep_duration'].clip(lower=lower_bound, upper=upper_bound)"
   ]
  },
  {
   "cell_type": "code",
   "execution_count": 20,
   "metadata": {},
   "outputs": [
    {
     "name": "stdout",
     "output_type": "stream",
     "text": [
      "BMI 95th Percentile: 40.9 \n",
      "\n",
      "BMI 5th Percentile: 12.9 \n",
      "\n"
     ]
    }
   ],
   "source": [
    "# BMI outliers\n",
    "\n",
    "upper_bound = new_data['BMI'].quantile(0.99)\n",
    "\n",
    "lower_bound = new_data['BMI'].quantile(0.01)\n",
    "\n",
    "print(f'BMI 95th Percentile: {upper_bound} \\n')\n",
    "    \n",
    "print(f'BMI 5th Percentile: {lower_bound} \\n')\n",
    "\n",
    "new_data['BMI'] = new_data['BMI'].clip(lower=lower_bound, upper=upper_bound)"
   ]
  },
  {
   "cell_type": "code",
   "execution_count": 21,
   "metadata": {},
   "outputs": [
    {
     "data": {
      "text/html": [
       "<div>\n",
       "<style scoped>\n",
       "    .dataframe tbody tr th:only-of-type {\n",
       "        vertical-align: middle;\n",
       "    }\n",
       "\n",
       "    .dataframe tbody tr th {\n",
       "        vertical-align: top;\n",
       "    }\n",
       "\n",
       "    .dataframe thead th {\n",
       "        text-align: right;\n",
       "    }\n",
       "</style>\n",
       "<table border=\"1\" class=\"dataframe\">\n",
       "  <thead>\n",
       "    <tr style=\"text-align: right;\">\n",
       "      <th></th>\n",
       "      <th>count</th>\n",
       "      <th>mean</th>\n",
       "      <th>std</th>\n",
       "      <th>min</th>\n",
       "      <th>25%</th>\n",
       "      <th>50%</th>\n",
       "      <th>75%</th>\n",
       "      <th>max</th>\n",
       "    </tr>\n",
       "  </thead>\n",
       "  <tbody>\n",
       "    <tr>\n",
       "      <th>sleep_duration</th>\n",
       "      <td>64259.0</td>\n",
       "      <td>5.109715</td>\n",
       "      <td>2.016093</td>\n",
       "      <td>2.0</td>\n",
       "      <td>3.4</td>\n",
       "      <td>5.3</td>\n",
       "      <td>7.0</td>\n",
       "      <td>7.7</td>\n",
       "    </tr>\n",
       "    <tr>\n",
       "      <th>BMI</th>\n",
       "      <td>64080.0</td>\n",
       "      <td>26.976412</td>\n",
       "      <td>5.897806</td>\n",
       "      <td>12.9</td>\n",
       "      <td>22.9</td>\n",
       "      <td>27.0</td>\n",
       "      <td>31.0</td>\n",
       "      <td>40.9</td>\n",
       "    </tr>\n",
       "  </tbody>\n",
       "</table>\n",
       "</div>"
      ],
      "text/plain": [
       "                  count       mean       std   min   25%   50%   75%   max\n",
       "sleep_duration  64259.0   5.109715  2.016093   2.0   3.4   5.3   7.0   7.7\n",
       "BMI             64080.0  26.976412  5.897806  12.9  22.9  27.0  31.0  40.9"
      ]
     },
     "execution_count": 21,
     "metadata": {},
     "output_type": "execute_result"
    }
   ],
   "source": [
    "new_data[['sleep_duration', 'BMI']].describe().T"
   ]
  },
  {
   "cell_type": "code",
   "execution_count": 22,
   "metadata": {
    "scrolled": false
   },
   "outputs": [
    {
     "data": {
      "text/html": [
       "<div>\n",
       "<style scoped>\n",
       "    .dataframe tbody tr th:only-of-type {\n",
       "        vertical-align: middle;\n",
       "    }\n",
       "\n",
       "    .dataframe tbody tr th {\n",
       "        vertical-align: top;\n",
       "    }\n",
       "\n",
       "    .dataframe thead th {\n",
       "        text-align: right;\n",
       "    }\n",
       "</style>\n",
       "<table border=\"1\" class=\"dataframe\">\n",
       "  <thead>\n",
       "    <tr style=\"text-align: right;\">\n",
       "      <th></th>\n",
       "      <th>count</th>\n",
       "      <th>mean</th>\n",
       "      <th>std</th>\n",
       "      <th>min</th>\n",
       "      <th>25%</th>\n",
       "      <th>50%</th>\n",
       "      <th>75%</th>\n",
       "      <th>max</th>\n",
       "    </tr>\n",
       "  </thead>\n",
       "  <tbody>\n",
       "    <tr>\n",
       "      <th>sleep_duration</th>\n",
       "      <td>80063.0</td>\n",
       "      <td>5.295149</td>\n",
       "      <td>2.842133</td>\n",
       "      <td>0.0</td>\n",
       "      <td>3.3</td>\n",
       "      <td>5.3</td>\n",
       "      <td>7.0</td>\n",
       "      <td>12.0</td>\n",
       "    </tr>\n",
       "    <tr>\n",
       "      <th>BMI</th>\n",
       "      <td>79934.0</td>\n",
       "      <td>26.978545</td>\n",
       "      <td>6.005039</td>\n",
       "      <td>1.8</td>\n",
       "      <td>22.9</td>\n",
       "      <td>27.0</td>\n",
       "      <td>31.0</td>\n",
       "      <td>53.1</td>\n",
       "    </tr>\n",
       "  </tbody>\n",
       "</table>\n",
       "</div>"
      ],
      "text/plain": [
       "                  count       mean       std  min   25%   50%   75%   max\n",
       "sleep_duration  80063.0   5.295149  2.842133  0.0   3.3   5.3   7.0  12.0\n",
       "BMI             79934.0  26.978545  6.005039  1.8  22.9  27.0  31.0  53.1"
      ]
     },
     "execution_count": 22,
     "metadata": {},
     "output_type": "execute_result"
    }
   ],
   "source": [
    "df[['sleep_duration', 'BMI']].describe().T"
   ]
  },
  {
   "cell_type": "markdown",
   "metadata": {},
   "source": [
    "#### Dealing with Missing Values"
   ]
  },
  {
   "cell_type": "code",
   "execution_count": 23,
   "metadata": {},
   "outputs": [],
   "source": [
    "# Numerical Columns with Ordinal Values \n",
    "\n",
    "# Approach: Use the median to fill missing values, as it’s less sensitive to outliers.\n",
    "\n",
    "cols = ['BMI', 'age', 'sleep_duration', 'weight']\n",
    "\n",
    "for col in cols:\n",
    "    \n",
    "    new_data[col].fillna(new_data[col].median(), inplace=True)\n",
    "\n"
   ]
  },
  {
   "cell_type": "code",
   "execution_count": 24,
   "metadata": {},
   "outputs": [],
   "source": [
    "# Binary Columns\n",
    "\n",
    "# Approach: Fill with 0 or the mode:\n",
    "\n",
    "cols = ['hypertension', 'family_diabetes_history', 'pregnancies']\n",
    "\n",
    "for col in cols:\n",
    "    \n",
    "    new_data[col].fillna(new_data[col].mode()[0], inplace=True)\n"
   ]
  },
  {
   "cell_type": "code",
   "execution_count": 25,
   "metadata": {},
   "outputs": [],
   "source": [
    "# Continuous Columns (e.g. diabetes_pedigree_function)\n",
    "\n",
    "# Approach: Use the mean to fill missing values (fairly uniform distribution).\n",
    "\n",
    "new_data['diabetes_pedigree_function'].fillna(new_data['diabetes_pedigree_function'].mean(), inplace=True)\n"
   ]
  },
  {
   "cell_type": "code",
   "execution_count": 26,
   "metadata": {},
   "outputs": [],
   "source": [
    "# Categorical Columns \n",
    "\n",
    "# Approach: Designate missing values as \"Unknown\" due to high missingness.\n",
    "\n",
    "cols = ['diet_type', 'star_sign', 'social_media_usage', 'stress_level',\n",
    "        \n",
    "        'physical_activity_level', 'alcohol_consumption', 'gender']\n",
    "\n",
    "for col in cols:\n",
    "    \n",
    "    new_data[col].fillna(\"Unknown\", inplace=True)"
   ]
  },
  {
   "cell_type": "code",
   "execution_count": 27,
   "metadata": {
    "scrolled": true
   },
   "outputs": [
    {
     "data": {
      "text/plain": [
       "gender                        0\n",
       "age                           0\n",
       "hypertension                  0\n",
       "diabetes_pedigree_function    0\n",
       "diet_type                     0\n",
       "star_sign                     0\n",
       "BMI                           0\n",
       "weight                        0\n",
       "family_diabetes_history       0\n",
       "social_media_usage            0\n",
       "physical_activity_level       0\n",
       "sleep_duration                0\n",
       "stress_level                  0\n",
       "pregnancies                   0\n",
       "alcohol_consumption           0\n",
       "diabetes                      0\n",
       "dtype: int64"
      ]
     },
     "execution_count": 27,
     "metadata": {},
     "output_type": "execute_result"
    }
   ],
   "source": [
    "# checking that no nulls are present after filling missing values\n",
    "\n",
    "new_data.isnull().sum()"
   ]
  },
  {
   "cell_type": "code",
   "execution_count": 28,
   "metadata": {},
   "outputs": [],
   "source": [
    "# Create Bins for Age as non-linear relationships between age and diabetes tend to exist:\n",
    "\n",
    "# i.e effect of age on the target variable (diabetes) increases with age (usually 50+) \n",
    "\n",
    "# Bins can better capture those patterns.\n",
    "\n",
    "age_bins = ['18-34', '35-49', '50-64', '65-79', '>80']\n",
    "\n",
    "new_data['age_group'] = ''\n",
    "\n",
    "new_data.loc[(new_data['age'] >= 18) & (new_data['age'] <= 34), 'age_group'] = '18-34'\n",
    "\n",
    "new_data.loc[(new_data['age'] >= 35) & (new_data['age'] <= 49), 'age_group'] = '35-49'\n",
    "\n",
    "new_data.loc[(new_data['age'] >= 50) & (new_data['age'] <= 64), 'age_group'] = '50-64'\n",
    "\n",
    "new_data.loc[(new_data['age'] >= 65) & (new_data['age'] <= 79), 'age_group'] = '65-79'\n",
    "\n",
    "new_data.loc[(new_data['age'] >= 80), 'age_group'] = '>80'\n",
    "\n",
    "\n",
    "\n"
   ]
  },
  {
   "cell_type": "markdown",
   "metadata": {},
   "source": [
    "Weight seems to be a mix of pounds and Kilos. We can Infer which columns may be in pounds and convert to kilos using the BMI column, as if we reverse engineer we can find a value for the predicted height of the individual. \n",
    "\n",
    "Infer probable units based on unrealistic height values. (e.g., height > 2m), assume the weight is in pounds and convert.\n"
   ]
  },
  {
   "cell_type": "code",
   "execution_count": 29,
   "metadata": {},
   "outputs": [],
   "source": [
    "# kg/m^2 = BMI\n",
    "\n",
    "# (kg/BMI)^(1/2) = m\n",
    "\n",
    "# height_pred should not be over 2m!"
   ]
  },
  {
   "cell_type": "code",
   "execution_count": 30,
   "metadata": {},
   "outputs": [],
   "source": [
    "def infer_weight(row):\n",
    "    \n",
    "    if row['weight']:\n",
    "        \n",
    "        height_pred = np.sqrt(row['weight'] / (row['BMI']))  # Assume kg\n",
    "        \n",
    "        if height_pred >= 2:  # Unrealistic Height, assume pounds\n",
    "            return row['weight'] * 0.453592  # Convert to kg\n",
    "        else:\n",
    "            return row['weight']  # Keep as is\n",
    "        \n",
    "    return None  # Handle missing data"
   ]
  },
  {
   "cell_type": "code",
   "execution_count": 31,
   "metadata": {
    "scrolled": true
   },
   "outputs": [],
   "source": [
    "new_data['weight_cleaned'] = new_data.apply(infer_weight, axis=1)"
   ]
  },
  {
   "cell_type": "code",
   "execution_count": 32,
   "metadata": {
    "scrolled": false
   },
   "outputs": [
    {
     "data": {
      "text/plain": [
       "count    80242.000000\n",
       "mean        79.177151\n",
       "std         19.786972\n",
       "min         23.496066\n",
       "25%         68.401674\n",
       "50%         73.527263\n",
       "75%         93.800000\n",
       "max        163.500000\n",
       "Name: weight_cleaned, dtype: float64"
      ]
     },
     "execution_count": 32,
     "metadata": {},
     "output_type": "execute_result"
    }
   ],
   "source": [
    "new_data['weight_cleaned'].describe().T"
   ]
  },
  {
   "cell_type": "code",
   "execution_count": 33,
   "metadata": {},
   "outputs": [
    {
     "name": "stdout",
     "output_type": "stream",
     "text": [
      "weight 95th Percentile: 111.356836 \n",
      "\n",
      "weight 5th Percentile: 51.5 \n",
      "\n"
     ]
    }
   ],
   "source": [
    "# weight outliers\n",
    "\n",
    "upper_bound = new_data['weight_cleaned'].quantile(0.95)\n",
    "\n",
    "lower_bound = new_data['weight_cleaned'].quantile(0.05)\n",
    "\n",
    "print(f'weight 95th Percentile: {upper_bound} \\n')\n",
    "    \n",
    "print(f'weight 5th Percentile: {lower_bound} \\n')\n",
    "\n",
    "new_data['weight_cleaned'] = new_data['weight_cleaned'].clip(lower=lower_bound, upper=upper_bound)"
   ]
  },
  {
   "cell_type": "code",
   "execution_count": 34,
   "metadata": {
    "scrolled": true
   },
   "outputs": [
    {
     "data": {
      "text/html": [
       "<div>\n",
       "<style scoped>\n",
       "    .dataframe tbody tr th:only-of-type {\n",
       "        vertical-align: middle;\n",
       "    }\n",
       "\n",
       "    .dataframe tbody tr th {\n",
       "        vertical-align: top;\n",
       "    }\n",
       "\n",
       "    .dataframe thead th {\n",
       "        text-align: right;\n",
       "    }\n",
       "</style>\n",
       "<table border=\"1\" class=\"dataframe\">\n",
       "  <thead>\n",
       "    <tr style=\"text-align: right;\">\n",
       "      <th></th>\n",
       "      <th>gender</th>\n",
       "      <th>age</th>\n",
       "      <th>hypertension</th>\n",
       "      <th>diabetes_pedigree_function</th>\n",
       "      <th>diet_type</th>\n",
       "      <th>star_sign</th>\n",
       "      <th>BMI</th>\n",
       "      <th>weight</th>\n",
       "      <th>family_diabetes_history</th>\n",
       "      <th>social_media_usage</th>\n",
       "      <th>physical_activity_level</th>\n",
       "      <th>sleep_duration</th>\n",
       "      <th>stress_level</th>\n",
       "      <th>pregnancies</th>\n",
       "      <th>alcohol_consumption</th>\n",
       "      <th>diabetes</th>\n",
       "      <th>age_group</th>\n",
       "      <th>weight_cleaned</th>\n",
       "    </tr>\n",
       "  </thead>\n",
       "  <tbody>\n",
       "    <tr>\n",
       "      <th>0</th>\n",
       "      <td>female</td>\n",
       "      <td>45.0</td>\n",
       "      <td>0.0</td>\n",
       "      <td>0.370000</td>\n",
       "      <td>paleo</td>\n",
       "      <td>Unknown</td>\n",
       "      <td>27.0</td>\n",
       "      <td>197.7</td>\n",
       "      <td>0.0</td>\n",
       "      <td>Occasionally</td>\n",
       "      <td>Sedentary</td>\n",
       "      <td>2.0</td>\n",
       "      <td>Low</td>\n",
       "      <td>0.0</td>\n",
       "      <td>light</td>\n",
       "      <td>1.0</td>\n",
       "      <td>35-49</td>\n",
       "      <td>89.675138</td>\n",
       "    </tr>\n",
       "    <tr>\n",
       "      <th>1</th>\n",
       "      <td>male</td>\n",
       "      <td>59.0</td>\n",
       "      <td>0.0</td>\n",
       "      <td>0.730000</td>\n",
       "      <td>Unknown</td>\n",
       "      <td>Leo</td>\n",
       "      <td>17.1</td>\n",
       "      <td>156.5</td>\n",
       "      <td>0.0</td>\n",
       "      <td>Occasionally</td>\n",
       "      <td>Lightly Active</td>\n",
       "      <td>5.4</td>\n",
       "      <td>Moderate</td>\n",
       "      <td>0.0</td>\n",
       "      <td>none</td>\n",
       "      <td>1.0</td>\n",
       "      <td>50-64</td>\n",
       "      <td>70.987148</td>\n",
       "    </tr>\n",
       "    <tr>\n",
       "      <th>2</th>\n",
       "      <td>female</td>\n",
       "      <td>31.0</td>\n",
       "      <td>0.0</td>\n",
       "      <td>0.501592</td>\n",
       "      <td>Unknown</td>\n",
       "      <td>Unknown</td>\n",
       "      <td>22.5</td>\n",
       "      <td>137.8</td>\n",
       "      <td>0.0</td>\n",
       "      <td>Occasionally</td>\n",
       "      <td>Lightly Active</td>\n",
       "      <td>7.6</td>\n",
       "      <td>Low</td>\n",
       "      <td>0.0</td>\n",
       "      <td>light</td>\n",
       "      <td>1.0</td>\n",
       "      <td>18-34</td>\n",
       "      <td>62.504978</td>\n",
       "    </tr>\n",
       "    <tr>\n",
       "      <th>4</th>\n",
       "      <td>Unknown</td>\n",
       "      <td>64.0</td>\n",
       "      <td>0.0</td>\n",
       "      <td>0.550000</td>\n",
       "      <td>carnivore</td>\n",
       "      <td>Unknown</td>\n",
       "      <td>27.0</td>\n",
       "      <td>179.7</td>\n",
       "      <td>0.0</td>\n",
       "      <td>Occasionally</td>\n",
       "      <td>Sedentary</td>\n",
       "      <td>7.7</td>\n",
       "      <td>Unknown</td>\n",
       "      <td>0.0</td>\n",
       "      <td>heavy</td>\n",
       "      <td>1.0</td>\n",
       "      <td>50-64</td>\n",
       "      <td>81.510482</td>\n",
       "    </tr>\n",
       "    <tr>\n",
       "      <th>5</th>\n",
       "      <td>male</td>\n",
       "      <td>50.0</td>\n",
       "      <td>0.0</td>\n",
       "      <td>0.430000</td>\n",
       "      <td>low carb</td>\n",
       "      <td>Unknown</td>\n",
       "      <td>27.0</td>\n",
       "      <td>150.8</td>\n",
       "      <td>0.0</td>\n",
       "      <td>Excessive</td>\n",
       "      <td>Lightly Active</td>\n",
       "      <td>4.7</td>\n",
       "      <td>Moderate</td>\n",
       "      <td>0.0</td>\n",
       "      <td>moderate</td>\n",
       "      <td>1.0</td>\n",
       "      <td>50-64</td>\n",
       "      <td>68.401674</td>\n",
       "    </tr>\n",
       "  </tbody>\n",
       "</table>\n",
       "</div>"
      ],
      "text/plain": [
       "    gender   age  hypertension  diabetes_pedigree_function  diet_type  \\\n",
       "0   female  45.0           0.0                    0.370000      paleo   \n",
       "1     male  59.0           0.0                    0.730000    Unknown   \n",
       "2   female  31.0           0.0                    0.501592    Unknown   \n",
       "4  Unknown  64.0           0.0                    0.550000  carnivore   \n",
       "5     male  50.0           0.0                    0.430000   low carb   \n",
       "\n",
       "  star_sign   BMI  weight  family_diabetes_history social_media_usage  \\\n",
       "0   Unknown  27.0   197.7                      0.0       Occasionally   \n",
       "1       Leo  17.1   156.5                      0.0       Occasionally   \n",
       "2   Unknown  22.5   137.8                      0.0       Occasionally   \n",
       "4   Unknown  27.0   179.7                      0.0       Occasionally   \n",
       "5   Unknown  27.0   150.8                      0.0          Excessive   \n",
       "\n",
       "  physical_activity_level  sleep_duration stress_level  pregnancies  \\\n",
       "0               Sedentary             2.0          Low          0.0   \n",
       "1          Lightly Active             5.4     Moderate          0.0   \n",
       "2          Lightly Active             7.6          Low          0.0   \n",
       "4               Sedentary             7.7      Unknown          0.0   \n",
       "5          Lightly Active             4.7     Moderate          0.0   \n",
       "\n",
       "  alcohol_consumption  diabetes age_group  weight_cleaned  \n",
       "0               light       1.0     35-49       89.675138  \n",
       "1                none       1.0     50-64       70.987148  \n",
       "2               light       1.0     18-34       62.504978  \n",
       "4               heavy       1.0     50-64       81.510482  \n",
       "5            moderate       1.0     50-64       68.401674  "
      ]
     },
     "execution_count": 34,
     "metadata": {},
     "output_type": "execute_result"
    }
   ],
   "source": [
    "new_data.head()"
   ]
  },
  {
   "cell_type": "code",
   "execution_count": 35,
   "metadata": {
    "scrolled": true
   },
   "outputs": [],
   "source": [
    "# # Ordinal Encoding for each categorical variable\n",
    "\n",
    "# categorical_cols = ['gender', 'diet_type', 'star_sign', \n",
    "#                     'social_media_usage', 'physical_activity_level',\n",
    "#                    'alcohol_consumption', 'age_group']\n",
    "\n",
    "# for col in categorical_cols:\n",
    "#     # Define the order of categories\n",
    "#     categories_order = [list(new_data[col].unique())]\n",
    "    \n",
    "#     # Create the encoder\n",
    "#     encoder = OrdinalEncoder(categories=categories_order)\n",
    "    \n",
    "#     # Apply the encoder\n",
    "#     new_data[f'{col}_encoded'] = encoder.fit_transform(new_data[[col]])\n",
    "    \n",
    "#     print(f'{col}_encoded values:', list(new_data[f'{col}_encoded'].unique()), '\\n')\n",
    "    \n",
    "#     print(new_data[[f'{col}_encoded', col]].drop_duplicates())\n",
    "    \n",
    "#     print('\\n')\n",
    "\n",
    "# new_data.head()"
   ]
  },
  {
   "cell_type": "code",
   "execution_count": 36,
   "metadata": {},
   "outputs": [],
   "source": [
    "new_data = new_data.drop(columns=['age', 'weight'])\n",
    "\n",
    "# rename weight_cleaned to weight\n",
    "\n",
    "new_data = new_data.rename(columns = {'weight_cleaned':'weight'})"
   ]
  },
  {
   "cell_type": "code",
   "execution_count": 37,
   "metadata": {},
   "outputs": [
    {
     "data": {
      "text/plain": [
       "Index(['gender', 'hypertension', 'diabetes_pedigree_function', 'diet_type',\n",
       "       'star_sign', 'BMI', 'family_diabetes_history', 'social_media_usage',\n",
       "       'physical_activity_level', 'sleep_duration', 'stress_level',\n",
       "       'pregnancies', 'alcohol_consumption', 'diabetes', 'age_group',\n",
       "       'weight'],\n",
       "      dtype='object')"
      ]
     },
     "execution_count": 37,
     "metadata": {},
     "output_type": "execute_result"
    }
   ],
   "source": [
    "# final columns\n",
    "\n",
    "new_data.columns"
   ]
  },
  {
   "cell_type": "code",
   "execution_count": 38,
   "metadata": {},
   "outputs": [],
   "source": [
    "# saving the cleaned data as csv\n",
    "\n",
    "cols = ['gender', 'hypertension', 'diabetes_pedigree_function', 'diet_type',\n",
    "       'star_sign', 'BMI', 'family_diabetes_history', 'social_media_usage',\n",
    "       'physical_activity_level', 'sleep_duration', 'stress_level',\n",
    "       'pregnancies', 'alcohol_consumption', 'age_group', 'weight', 'diabetes']\n",
    "\n",
    "new_data[cols].to_csv('diabetes_data_cleaned.csv')"
   ]
  }
 ],
 "metadata": {
  "kernelspec": {
   "display_name": "Python 3",
   "language": "python",
   "name": "python3"
  },
  "language_info": {
   "codemirror_mode": {
    "name": "ipython",
    "version": 3
   },
   "file_extension": ".py",
   "mimetype": "text/x-python",
   "name": "python",
   "nbconvert_exporter": "python",
   "pygments_lexer": "ipython3",
   "version": "3.8.5"
  }
 },
 "nbformat": 4,
 "nbformat_minor": 4
}
